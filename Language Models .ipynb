{
 "cells": [
  {
   "cell_type": "code",
   "execution_count": 1,
   "metadata": {},
   "outputs": [
    {
     "data": {
      "text/html": [
       "<div>\n",
       "<style scoped>\n",
       "    .dataframe tbody tr th:only-of-type {\n",
       "        vertical-align: middle;\n",
       "    }\n",
       "\n",
       "    .dataframe tbody tr th {\n",
       "        vertical-align: top;\n",
       "    }\n",
       "\n",
       "    .dataframe thead th {\n",
       "        text-align: right;\n",
       "    }\n",
       "</style>\n",
       "<table border=\"1\" class=\"dataframe\">\n",
       "  <thead>\n",
       "    <tr style=\"text-align: right;\">\n",
       "      <th></th>\n",
       "      <th>Review</th>\n",
       "      <th>Rating</th>\n",
       "    </tr>\n",
       "  </thead>\n",
       "  <tbody>\n",
       "    <tr>\n",
       "      <td>0</td>\n",
       "      <td>nice hotel expensive parking got good deal sta...</td>\n",
       "      <td>4</td>\n",
       "    </tr>\n",
       "    <tr>\n",
       "      <td>1</td>\n",
       "      <td>ok nothing special charge diamond member hilto...</td>\n",
       "      <td>2</td>\n",
       "    </tr>\n",
       "    <tr>\n",
       "      <td>2</td>\n",
       "      <td>nice rooms not 4* experience hotel monaco seat...</td>\n",
       "      <td>3</td>\n",
       "    </tr>\n",
       "    <tr>\n",
       "      <td>3</td>\n",
       "      <td>unique, great stay, wonderful time hotel monac...</td>\n",
       "      <td>5</td>\n",
       "    </tr>\n",
       "    <tr>\n",
       "      <td>4</td>\n",
       "      <td>great stay great stay, went seahawk game aweso...</td>\n",
       "      <td>5</td>\n",
       "    </tr>\n",
       "  </tbody>\n",
       "</table>\n",
       "</div>"
      ],
      "text/plain": [
       "                                              Review  Rating\n",
       "0  nice hotel expensive parking got good deal sta...       4\n",
       "1  ok nothing special charge diamond member hilto...       2\n",
       "2  nice rooms not 4* experience hotel monaco seat...       3\n",
       "3  unique, great stay, wonderful time hotel monac...       5\n",
       "4  great stay great stay, went seahawk game aweso...       5"
      ]
     },
     "execution_count": 1,
     "metadata": {},
     "output_type": "execute_result"
    }
   ],
   "source": [
    "import pandas as pd\n",
    "df = pd.read_csv('tripadvisor_hotel_reviews.csv')\n",
    "df.head()\n"
   ]
  },
  {
   "cell_type": "code",
   "execution_count": 2,
   "metadata": {},
   "outputs": [],
   "source": [
    "# natural language processing: n-gram ranking\n",
    "import re\n",
    "import unicodedata\n",
    "import nltk\n",
    "from nltk.corpus import stopwords\n",
    "# add appropriate words that will be ignored in the analysis\n",
    "ADDITIONAL_STOPWORDS = ['covfefe']\n",
    "\n",
    "import matplotlib.pyplot as plt\n",
    "\n"
   ]
  },
  {
   "cell_type": "code",
   "execution_count": 3,
   "metadata": {},
   "outputs": [],
   "source": [
    "def basic_clean(text):\n",
    "  \"\"\"\n",
    "  A simple function to clean up the data. All the words that\n",
    "  are not designated as a stop word is then lemmatized after\n",
    "  encoding and basic regex parsing are performed.\n",
    "  \"\"\"\n",
    "  wnl = nltk.stem.WordNetLemmatizer()\n",
    "  stopwords = nltk.corpus.stopwords.words('english') + ADDITIONAL_STOPWORDS\n",
    "  text = (unicodedata.normalize('NFKD', text)\n",
    "    .encode('ascii', 'ignore')\n",
    "    .decode('utf-8', 'ignore')\n",
    "    .lower())\n",
    "  words = re.sub(r'[^\\w\\s]', '', text).split()\n",
    "  return [wnl.lemmatize(word) for word in words if word not in stopwords]"
   ]
  },
  {
   "cell_type": "code",
   "execution_count": 4,
   "metadata": {},
   "outputs": [],
   "source": [
    "words = basic_clean(''.join(str(df['Review'].tolist())))\n"
   ]
  },
  {
   "cell_type": "code",
   "execution_count": 5,
   "metadata": {},
   "outputs": [
    {
     "data": {
      "text/plain": [
       "['nice',\n",
       " 'hotel',\n",
       " 'expensive',\n",
       " 'parking',\n",
       " 'got',\n",
       " 'good',\n",
       " 'deal',\n",
       " 'stay',\n",
       " 'hotel',\n",
       " 'anniversary',\n",
       " 'arrived',\n",
       " 'late',\n",
       " 'evening',\n",
       " 'took',\n",
       " 'advice',\n",
       " 'previous',\n",
       " 'review',\n",
       " 'valet',\n",
       " 'parking',\n",
       " 'check',\n",
       " 'quick',\n",
       " 'easy',\n",
       " 'little',\n",
       " 'disappointed',\n",
       " 'nonexistent',\n",
       " 'view',\n",
       " 'room',\n",
       " 'room',\n",
       " 'clean',\n",
       " 'nice',\n",
       " 'size',\n",
       " 'bed',\n",
       " 'comfortable',\n",
       " 'woke',\n",
       " 'stiff',\n",
       " 'neck',\n",
       " 'high',\n",
       " 'pillow',\n",
       " 'soundproof',\n",
       " 'like',\n",
       " 'heard',\n",
       " 'music',\n",
       " 'room',\n",
       " 'night',\n",
       " 'morning',\n",
       " 'loud',\n",
       " 'bang',\n",
       " 'door',\n",
       " 'opening',\n",
       " 'closing',\n",
       " 'hear',\n",
       " 'people',\n",
       " 'talking',\n",
       " 'hallway',\n",
       " 'maybe',\n",
       " 'noisy',\n",
       " 'neighbor',\n",
       " 'aveda',\n",
       " 'bath',\n",
       " 'product',\n",
       " 'nice',\n",
       " 'goldfish',\n",
       " 'stay',\n",
       " 'nice',\n",
       " 'touch',\n",
       " 'taken',\n",
       " 'advantage',\n",
       " 'staying',\n",
       " 'longer',\n",
       " 'location',\n",
       " 'great',\n",
       " 'walking',\n",
       " 'distance',\n",
       " 'shopping',\n",
       " 'overall',\n",
       " 'nice',\n",
       " 'experience',\n",
       " 'pay',\n",
       " '40',\n",
       " 'parking',\n",
       " 'night',\n",
       " 'ok',\n",
       " 'nothing',\n",
       " 'special',\n",
       " 'charge',\n",
       " 'diamond',\n",
       " 'member',\n",
       " 'hilton',\n",
       " 'decided',\n",
       " 'chain',\n",
       " 'shot',\n",
       " '20th',\n",
       " 'anniversary',\n",
       " 'seattle',\n",
       " 'start',\n",
       " 'booked',\n",
       " 'suite',\n",
       " 'paid',\n",
       " 'extra',\n",
       " 'website',\n",
       " 'description',\n",
       " 'suite',\n",
       " 'bedroom',\n",
       " 'bathroom',\n",
       " 'standard',\n",
       " 'hotel',\n",
       " 'room',\n",
       " 'took',\n",
       " 'printed',\n",
       " 'reservation',\n",
       " 'desk',\n",
       " 'showed',\n",
       " 'said',\n",
       " 'thing',\n",
       " 'like',\n",
       " 'tv',\n",
       " 'couch',\n",
       " 'ect',\n",
       " 'desk',\n",
       " 'clerk',\n",
       " 'told',\n",
       " 'oh',\n",
       " 'mixed',\n",
       " 'suite',\n",
       " 'description',\n",
       " 'kimpton',\n",
       " 'website',\n",
       " 'sorry',\n",
       " 'free',\n",
       " 'breakfast',\n",
       " 'got',\n",
       " 'kidding',\n",
       " 'embassy',\n",
       " 'suit',\n",
       " 'sitting',\n",
       " 'room',\n",
       " 'bathroom',\n",
       " 'bedroom',\n",
       " 'unlike',\n",
       " 'kimpton',\n",
       " 'call',\n",
       " 'suite',\n",
       " '5',\n",
       " 'day',\n",
       " 'stay',\n",
       " 'offer',\n",
       " 'correct',\n",
       " 'false',\n",
       " 'advertising',\n",
       " 'send',\n",
       " 'kimpton',\n",
       " 'preferred',\n",
       " 'guest',\n",
       " 'website',\n",
       " 'email',\n",
       " 'asking',\n",
       " 'failure',\n",
       " 'provide',\n",
       " 'suite',\n",
       " 'advertised',\n",
       " 'website',\n",
       " 'reservation',\n",
       " 'description',\n",
       " 'furnished',\n",
       " 'hard',\n",
       " 'copy',\n",
       " 'reservation',\n",
       " 'printout',\n",
       " 'website',\n",
       " 'desk',\n",
       " 'manager',\n",
       " 'duty',\n",
       " 'reply',\n",
       " 'solution',\n",
       " 'send',\n",
       " 'email',\n",
       " 'trip',\n",
       " 'guest',\n",
       " 'survey',\n",
       " 'follow',\n",
       " 'email',\n",
       " 'mail',\n",
       " 'guess',\n",
       " 'tell',\n",
       " 'concerned',\n",
       " 'guestthe',\n",
       " 'staff',\n",
       " 'ranged',\n",
       " 'indifferent',\n",
       " 'helpful',\n",
       " 'asked',\n",
       " 'desk',\n",
       " 'good',\n",
       " 'breakfast',\n",
       " 'spot',\n",
       " 'neighborhood',\n",
       " 'hood',\n",
       " 'told',\n",
       " 'hotel',\n",
       " 'gee',\n",
       " 'best',\n",
       " 'breakfast',\n",
       " 'spot',\n",
       " 'seattle',\n",
       " '12',\n",
       " 'block',\n",
       " 'away',\n",
       " 'convenient',\n",
       " 'hotel',\n",
       " 'know',\n",
       " 'exist',\n",
       " 'arrived',\n",
       " 'late',\n",
       " 'night',\n",
       " '11',\n",
       " 'pm',\n",
       " 'inside',\n",
       " 'run',\n",
       " 'bellman',\n",
       " 'busy',\n",
       " 'chating',\n",
       " 'cell',\n",
       " 'phone',\n",
       " 'help',\n",
       " 'bagsprior',\n",
       " 'arrival',\n",
       " 'emailed',\n",
       " 'hotel',\n",
       " 'inform',\n",
       " '20th',\n",
       " 'anniversary',\n",
       " 'half',\n",
       " 'really',\n",
       " 'picky',\n",
       " 'wanted',\n",
       " 'make',\n",
       " 'sure',\n",
       " 'good',\n",
       " 'got',\n",
       " 'nice',\n",
       " 'email',\n",
       " 'saying',\n",
       " 'like',\n",
       " 'deliver',\n",
       " 'bottle',\n",
       " 'champagne',\n",
       " 'chocolate',\n",
       " 'covered',\n",
       " 'strawberry',\n",
       " 'room',\n",
       " 'arrival',\n",
       " 'celebrate',\n",
       " 'told',\n",
       " 'needed',\n",
       " 'foam',\n",
       " 'pillow',\n",
       " 'arrival',\n",
       " 'champagne',\n",
       " 'strawberry',\n",
       " 'foam',\n",
       " 'pillow',\n",
       " 'great',\n",
       " 'room',\n",
       " 'view',\n",
       " 'alley',\n",
       " 'high',\n",
       " 'rise',\n",
       " 'building',\n",
       " 'good',\n",
       " 'better',\n",
       " 'housekeeping',\n",
       " 'staff',\n",
       " 'cleaner',\n",
       " 'room',\n",
       " 'property',\n",
       " 'impressed',\n",
       " 'left',\n",
       " 'morning',\n",
       " 'shopping',\n",
       " 'room',\n",
       " 'got',\n",
       " 'short',\n",
       " 'trip',\n",
       " '2',\n",
       " 'hour',\n",
       " 'bed',\n",
       " 'comfortablenot',\n",
       " 'good',\n",
       " 'acheat',\n",
       " 'control',\n",
       " '4',\n",
       " 'x',\n",
       " '4',\n",
       " 'inch',\n",
       " 'screen',\n",
       " 'bring',\n",
       " 'green',\n",
       " 'shine',\n",
       " 'directly',\n",
       " 'eye',\n",
       " 'night',\n",
       " 'light',\n",
       " 'sensitive',\n",
       " 'tape',\n",
       " 'controlsthis',\n",
       " '4',\n",
       " 'start',\n",
       " 'hotel',\n",
       " 'clean',\n",
       " 'business',\n",
       " 'hotel',\n",
       " 'super',\n",
       " 'high',\n",
       " 'rate',\n",
       " 'better',\n",
       " 'chain',\n",
       " 'hotel',\n",
       " 'seattle',\n",
       " 'nice',\n",
       " 'room',\n",
       " '4',\n",
       " 'experience',\n",
       " 'hotel',\n",
       " 'monaco',\n",
       " 'seattle',\n",
       " 'good',\n",
       " 'hotel',\n",
       " 'nt',\n",
       " '4',\n",
       " 'levelpositives',\n",
       " 'large',\n",
       " 'bathroom',\n",
       " 'mediterranean',\n",
       " 'suite',\n",
       " 'comfortable',\n",
       " 'bed',\n",
       " 'pillowsattentive',\n",
       " 'housekeeping',\n",
       " 'staffnegatives',\n",
       " 'ac',\n",
       " 'unit',\n",
       " 'malfunctioned',\n",
       " 'stay',\n",
       " 'desk',\n",
       " 'disorganized',\n",
       " 'missed',\n",
       " '3',\n",
       " 'separate',\n",
       " 'wakeup',\n",
       " 'call',\n",
       " 'concierge',\n",
       " 'busy',\n",
       " 'hard',\n",
       " 'touch',\n",
       " 'nt',\n",
       " 'provide',\n",
       " 'guidance',\n",
       " 'special',\n",
       " 'requeststv',\n",
       " 'hard',\n",
       " 'use',\n",
       " 'ipod',\n",
       " 'sound',\n",
       " 'dock',\n",
       " 'suite',\n",
       " 'non',\n",
       " 'functioning',\n",
       " 'decided',\n",
       " 'book',\n",
       " 'mediterranean',\n",
       " 'suite',\n",
       " '3',\n",
       " 'night',\n",
       " 'weekend',\n",
       " 'stay',\n",
       " '1st',\n",
       " 'choice',\n",
       " 'rest',\n",
       " 'party',\n",
       " 'filled',\n",
       " 'comparison',\n",
       " 'w',\n",
       " 'spent',\n",
       " '45',\n",
       " 'night',\n",
       " 'larger',\n",
       " 'square',\n",
       " 'footage',\n",
       " 'room',\n",
       " 'great',\n",
       " 'soaking',\n",
       " 'tub',\n",
       " 'whirlpool',\n",
       " 'jet',\n",
       " 'nice',\n",
       " 'showerbefore',\n",
       " 'stay',\n",
       " 'hotel',\n",
       " 'arrange',\n",
       " 'car',\n",
       " 'service',\n",
       " 'price',\n",
       " '53',\n",
       " 'tip',\n",
       " 'reasonable',\n",
       " 'driver',\n",
       " 'waiting',\n",
       " 'arrivalcheckin',\n",
       " 'easy',\n",
       " 'downside',\n",
       " 'room',\n",
       " 'picked',\n",
       " '2',\n",
       " 'person',\n",
       " 'jacuzi',\n",
       " 'tub',\n",
       " 'bath',\n",
       " 'accessory',\n",
       " 'salt',\n",
       " 'bubble',\n",
       " 'bath',\n",
       " 'nt',\n",
       " 'stay',\n",
       " 'night',\n",
       " 'got',\n",
       " '121a',\n",
       " 'checked',\n",
       " 'voucher',\n",
       " 'bottle',\n",
       " 'champagne',\n",
       " 'nice',\n",
       " 'gesture',\n",
       " 'fish',\n",
       " 'waiting',\n",
       " 'room',\n",
       " 'impression',\n",
       " 'room',\n",
       " 'huge',\n",
       " 'open',\n",
       " 'space',\n",
       " 'felt',\n",
       " 'room',\n",
       " 'big',\n",
       " 'tv',\n",
       " 'far',\n",
       " 'away',\n",
       " 'bed',\n",
       " 'chore',\n",
       " 'change',\n",
       " 'channel',\n",
       " 'ipod',\n",
       " 'dock',\n",
       " 'broken',\n",
       " 'disappointingin',\n",
       " 'morning',\n",
       " 'way',\n",
       " 'asked',\n",
       " 'desk',\n",
       " 'check',\n",
       " 'thermostat',\n",
       " 'said',\n",
       " '65f',\n",
       " '74',\n",
       " '2',\n",
       " 'degree',\n",
       " 'warm',\n",
       " 'try',\n",
       " 'cover',\n",
       " 'face',\n",
       " 'night',\n",
       " 'bright',\n",
       " 'blue',\n",
       " 'light',\n",
       " 'kept',\n",
       " 'got',\n",
       " 'room',\n",
       " 'night',\n",
       " '1st',\n",
       " 'drop',\n",
       " 'desk',\n",
       " 'called',\n",
       " 'maintainence',\n",
       " 'came',\n",
       " 'look',\n",
       " 'thermostat',\n",
       " 'told',\n",
       " 'play',\n",
       " 'setting',\n",
       " 'happy',\n",
       " 'digital',\n",
       " 'box',\n",
       " 'wo',\n",
       " 'nt',\n",
       " 'work',\n",
       " 'asked',\n",
       " 'wakeup',\n",
       " '10am',\n",
       " 'morning',\n",
       " 'nt',\n",
       " 'happen',\n",
       " 'called',\n",
       " 'later',\n",
       " '6pm',\n",
       " 'nap',\n",
       " 'wakeup',\n",
       " 'forgot',\n",
       " '10am',\n",
       " 'wakeup',\n",
       " 'morning',\n",
       " 'yep',\n",
       " 'forgottenthe',\n",
       " 'bathroom',\n",
       " 'facility',\n",
       " 'great',\n",
       " 'room',\n",
       " 'surprised',\n",
       " 'room',\n",
       " 'sold',\n",
       " 'whirlpool',\n",
       " 'bath',\n",
       " 'tub',\n",
       " 'nt',\n",
       " 'bath',\n",
       " 'amenity',\n",
       " 'great',\n",
       " 'relax',\n",
       " 'water',\n",
       " 'jet',\n",
       " 'going',\n",
       " 'unique',\n",
       " 'great',\n",
       " 'stay',\n",
       " 'wonderful',\n",
       " 'time',\n",
       " 'hotel',\n",
       " 'monaco',\n",
       " 'location',\n",
       " 'excellent',\n",
       " 'short',\n",
       " 'stroll',\n",
       " 'main',\n",
       " 'downtown',\n",
       " 'shopping',\n",
       " 'area',\n",
       " 'pet',\n",
       " 'friendly',\n",
       " 'room',\n",
       " 'showed',\n",
       " 'sign',\n",
       " 'animal',\n",
       " 'hair',\n",
       " 'smell',\n",
       " 'monaco',\n",
       " 'suite',\n",
       " 'sleeping',\n",
       " 'area',\n",
       " 'big',\n",
       " 'striped',\n",
       " 'curtain',\n",
       " 'pulled',\n",
       " 'closed',\n",
       " 'nice',\n",
       " 'touch',\n",
       " 'felt',\n",
       " 'cosy',\n",
       " 'goldfish',\n",
       " 'named',\n",
       " 'brandi',\n",
       " 'enjoyed',\n",
       " 'nt',\n",
       " 'partake',\n",
       " 'free',\n",
       " 'wine',\n",
       " 'coffeetea',\n",
       " 'service',\n",
       " 'lobby',\n",
       " 'thought',\n",
       " 'great',\n",
       " 'feature',\n",
       " 'great',\n",
       " 'staff',\n",
       " 'friendly',\n",
       " 'free',\n",
       " 'wireless',\n",
       " 'internet',\n",
       " 'hotel',\n",
       " 'worked',\n",
       " 'suite',\n",
       " '2',\n",
       " 'laptop',\n",
       " 'decor',\n",
       " 'lovely',\n",
       " 'eclectic',\n",
       " 'mix',\n",
       " 'patten',\n",
       " 'color',\n",
       " 'palatte',\n",
       " 'animal',\n",
       " 'print',\n",
       " 'bathrobe',\n",
       " 'feel',\n",
       " 'like',\n",
       " 'rock',\n",
       " 'star',\n",
       " 'nice',\n",
       " 'nt',\n",
       " 'look',\n",
       " 'like',\n",
       " 'sterile',\n",
       " 'chain',\n",
       " 'hotel',\n",
       " 'hotel',\n",
       " 'personality',\n",
       " 'excellent',\n",
       " 'stay',\n",
       " 'great',\n",
       " 'stay',\n",
       " 'great',\n",
       " 'stay',\n",
       " 'went',\n",
       " 'seahawk',\n",
       " 'game',\n",
       " 'awesome',\n",
       " 'downfall',\n",
       " 'view',\n",
       " 'building',\n",
       " 'nt',\n",
       " 'complain',\n",
       " 'room',\n",
       " 'huge',\n",
       " 'staff',\n",
       " 'helpful',\n",
       " 'booked',\n",
       " 'hotel',\n",
       " 'website',\n",
       " 'seahawk',\n",
       " 'package',\n",
       " 'charge',\n",
       " 'parking',\n",
       " 'got',\n",
       " 'voucher',\n",
       " 'taxi',\n",
       " 'problem',\n",
       " 'taxi',\n",
       " 'driver',\n",
       " 'nt',\n",
       " 'want',\n",
       " 'accept',\n",
       " 'voucher',\n",
       " 'barely',\n",
       " 'spoke',\n",
       " 'english',\n",
       " 'funny',\n",
       " 'thing',\n",
       " 'speak',\n",
       " 'arabic',\n",
       " 'called',\n",
       " 'started',\n",
       " 'making',\n",
       " 'comment',\n",
       " 'girlfriend',\n",
       " 'cell',\n",
       " 'phone',\n",
       " 'buddy',\n",
       " 'took',\n",
       " 'second',\n",
       " 'realize',\n",
       " 'said',\n",
       " 'fact',\n",
       " 'speak',\n",
       " 'language',\n",
       " 'face',\n",
       " 'priceless',\n",
       " 'as',\n",
       " 'told',\n",
       " 'said',\n",
       " 'large',\n",
       " 'city',\n",
       " 'told',\n",
       " 'head',\n",
       " 'doorman',\n",
       " 'issue',\n",
       " 'called',\n",
       " 'cab',\n",
       " 'company',\n",
       " 'promply',\n",
       " 'answer',\n",
       " 'nt',\n",
       " 'apologized',\n",
       " 'offered',\n",
       " 'pay',\n",
       " 'taxi',\n",
       " 'buck',\n",
       " '2',\n",
       " 'mile',\n",
       " 'stadium',\n",
       " 'game',\n",
       " 'plan',\n",
       " 'taxi',\n",
       " 'return',\n",
       " 'going',\n",
       " 'humpin',\n",
       " 'great',\n",
       " 'walk',\n",
       " 'nt',\n",
       " 'mind',\n",
       " 'right',\n",
       " 'christmas',\n",
       " 'wonderful',\n",
       " 'light',\n",
       " 'homeless',\n",
       " 'stowed',\n",
       " 'away',\n",
       " 'building',\n",
       " 'entrance',\n",
       " 'leave',\n",
       " 'police',\n",
       " 'presence',\n",
       " 'greatest',\n",
       " 'area',\n",
       " 'stadium',\n",
       " 'activity',\n",
       " '7',\n",
       " 'block',\n",
       " 'pike',\n",
       " 'street',\n",
       " 'waterfront',\n",
       " 'great',\n",
       " 'coffee',\n",
       " 'shop',\n",
       " 'way',\n",
       " 'hotel',\n",
       " 'mantained',\n",
       " 'foyer',\n",
       " 'awesome',\n",
       " 'wine',\n",
       " 'tasting',\n",
       " 'available',\n",
       " 'evening',\n",
       " 'best',\n",
       " 'dog',\n",
       " 'taking',\n",
       " 'st',\n",
       " 'bernard',\n",
       " 'time',\n",
       " 'family',\n",
       " 'safe',\n",
       " 'hotel',\n",
       " 'located',\n",
       " 'service',\n",
       " 'desk',\n",
       " 'room',\n",
       " 'bathroom',\n",
       " 'huge',\n",
       " 'jetted',\n",
       " 'tub',\n",
       " 'huge',\n",
       " 'funny',\n",
       " 'house',\n",
       " 'keeping',\n",
       " 'walked',\n",
       " 'girlfriend',\n",
       " 'getting',\n",
       " 'dressed',\n",
       " 'nt',\n",
       " 'hear',\n",
       " 'knock',\n",
       " 'turn',\n",
       " 'service',\n",
       " 'screamed',\n",
       " 'girlfriend',\n",
       " 'scream',\n",
       " 'hit',\n",
       " 'floor',\n",
       " 'laughing',\n",
       " 'started',\n",
       " 'talking',\n",
       " 'spanish',\n",
       " 'worked',\n",
       " 'place',\n",
       " 'recommend',\n",
       " 'price',\n",
       " 'check',\n",
       " 'online',\n",
       " 'deal',\n",
       " 'good',\n",
       " 'better',\n",
       " 'besite',\n",
       " 'contains',\n",
       " 'deal',\n",
       " 'voucher',\n",
       " 'travel',\n",
       " 'website',\n",
       " 'nt',\n",
       " 'tell',\n",
       " 'love',\n",
       " 'monaco',\n",
       " 'staff',\n",
       " 'husband',\n",
       " 'stayed',\n",
       " 'hotel',\n",
       " 'crazy',\n",
       " 'weekend',\n",
       " 'attending',\n",
       " 'memorial',\n",
       " 'service',\n",
       " 'best',\n",
       " 'friend',\n",
       " 'husband',\n",
       " 'celebrating',\n",
       " '12th',\n",
       " 'wedding',\n",
       " 'anniversary',\n",
       " 'talk',\n",
       " 'mixed',\n",
       " 'emotion',\n",
       " 'booked',\n",
       " 'suite',\n",
       " 'hotel',\n",
       " 'monte',\n",
       " 'carlos',\n",
       " 'loaned',\n",
       " 'beautiful',\n",
       " 'fantanned',\n",
       " 'goldfish',\n",
       " 'named',\n",
       " 'joliet',\n",
       " 'weekend',\n",
       " 'visited',\n",
       " 'dog',\n",
       " 'worked',\n",
       " 'desk',\n",
       " 'human',\n",
       " 'companion',\n",
       " 'room',\n",
       " 'decorated',\n",
       " 'nicely',\n",
       " 'couch',\n",
       " 'used',\n",
       " 'pillow',\n",
       " 'loccitane',\n",
       " 'bath',\n",
       " 'amenity',\n",
       " 'welcome',\n",
       " 'sight',\n",
       " 'room',\n",
       " 'quiet',\n",
       " 'peaceful',\n",
       " 'wireless',\n",
       " 'internet',\n",
       " 'access',\n",
       " 'wonderful',\n",
       " 'server',\n",
       " 'went',\n",
       " 'morning',\n",
       " 'leaving',\n",
       " 'problem',\n",
       " 'printing',\n",
       " 'boarding',\n",
       " 'pass',\n",
       " 'afternoon',\n",
       " 'reception',\n",
       " 'serf',\n",
       " 'oenophilesatisfying',\n",
       " 'wine',\n",
       " 'australia',\n",
       " 'scrumptious',\n",
       " 'cooky',\n",
       " 'restaurant',\n",
       " 'closed',\n",
       " 'renovation',\n",
       " 'stay',\n",
       " 'finally',\n",
       " 'ate',\n",
       " 'food',\n",
       " 'good',\n",
       " 'drink',\n",
       " 'better',\n",
       " 'word',\n",
       " 'caution',\n",
       " 'restaurant',\n",
       " 'larger',\n",
       " 'person',\n",
       " 'sit',\n",
       " 'booth',\n",
       " 'wo',\n",
       " 'nt',\n",
       " 'fit',\n",
       " '56',\n",
       " '125',\n",
       " 'lb',\n",
       " 'husband',\n",
       " '59',\n",
       " '175',\n",
       " 'table',\n",
       " 'smackagainst',\n",
       " 'stomach',\n",
       " 'couple',\n",
       " 'inch',\n",
       " 'space',\n",
       " 'mighty',\n",
       " 'uncomfortable',\n",
       " 'patron',\n",
       " 'larger',\n",
       " 'pregnant',\n",
       " 'bad',\n",
       " 'design',\n",
       " 'opinion',\n",
       " 'place',\n",
       " 'decorated',\n",
       " 'funky',\n",
       " 'welcoming',\n",
       " 'way',\n",
       " 'metal',\n",
       " 'wood',\n",
       " 'handblown',\n",
       " 'glass',\n",
       " 'light',\n",
       " 'fixture',\n",
       " 'expect',\n",
       " 'seattle',\n",
       " 'capital',\n",
       " 'glass',\n",
       " 'art',\n",
       " 'industry',\n",
       " 'definitely',\n",
       " 'stay',\n",
       " 'reason',\n",
       " 'cozy',\n",
       " 'stay',\n",
       " 'rainy',\n",
       " 'city',\n",
       " 'husband',\n",
       " 'spent',\n",
       " '7',\n",
       " 'night',\n",
       " 'monaco',\n",
       " 'early',\n",
       " 'january',\n",
       " '2008',\n",
       " 'business',\n",
       " 'trip',\n",
       " 'chance',\n",
       " 'come',\n",
       " 'ridewe',\n",
       " 'booked',\n",
       " 'monte',\n",
       " 'carlo',\n",
       " 'suite',\n",
       " 'proved',\n",
       " 'comfortable',\n",
       " 'longish',\n",
       " 'stay',\n",
       " 'room',\n",
       " '905',\n",
       " 'located',\n",
       " 'street',\n",
       " 'building',\n",
       " 'street',\n",
       " 'noise',\n",
       " 'problem',\n",
       " 'view',\n",
       " 'interesting',\n",
       " 'room',\n",
       " 'building',\n",
       " 'look',\n",
       " 'dank',\n",
       " 'alley',\n",
       " 'midsection',\n",
       " 'large',\n",
       " 'office',\n",
       " 'building',\n",
       " 'suite',\n",
       " 'comfortable',\n",
       " 'plenty',\n",
       " 'room',\n",
       " 'spread',\n",
       " 'bathroom',\n",
       " 'attractive',\n",
       " 'squeaky',\n",
       " 'clean',\n",
       " 'small',\n",
       " 'comparison',\n",
       " 'generous',\n",
       " 'proportion',\n",
       " 'sitting',\n",
       " 'sleeping',\n",
       " 'area',\n",
       " 'lot',\n",
       " 'comfortable',\n",
       " 'seating',\n",
       " 'option',\n",
       " 'good',\n",
       " 'lighting',\n",
       " 'plenty',\n",
       " 'storage',\n",
       " 'clothing',\n",
       " 'luggage',\n",
       " 'hotel',\n",
       " 'staff',\n",
       " ...]"
      ]
     },
     "execution_count": 5,
     "metadata": {},
     "output_type": "execute_result"
    }
   ],
   "source": [
    "words"
   ]
  },
  {
   "cell_type": "code",
   "execution_count": 6,
   "metadata": {},
   "outputs": [
    {
     "data": {
      "text/plain": [
       "2063037"
      ]
     },
     "execution_count": 6,
     "metadata": {},
     "output_type": "execute_result"
    }
   ],
   "source": [
    "len(words)"
   ]
  },
  {
   "cell_type": "code",
   "execution_count": 7,
   "metadata": {},
   "outputs": [],
   "source": [
    "uniwords=pd.Series(nltk.ngrams(words, 1)).value_counts()\n"
   ]
  },
  {
   "cell_type": "code",
   "execution_count": 8,
   "metadata": {},
   "outputs": [
    {
     "data": {
      "text/plain": [
       "(great, location)        2143\n",
       "(staff, friendly)        2087\n",
       "(ca, nt)                 1809\n",
       "(room, clean)            1705\n",
       "(punta, cana)            1682\n",
       "                         ... \n",
       "(access, used7)             1\n",
       "(cheese, ceral)             1\n",
       "(sign, pet)                 1\n",
       "(secured, parkingthe)       1\n",
       "(min, aware)                1\n",
       "Length: 955592, dtype: int64"
      ]
     },
     "execution_count": 8,
     "metadata": {},
     "output_type": "execute_result"
    }
   ],
   "source": [
    "biwords=(pd.Series(nltk.ngrams(words, 2)).value_counts())\n",
    "biwords"
   ]
  },
  {
   "cell_type": "code",
   "execution_count": 9,
   "metadata": {},
   "outputs": [
    {
     "data": {
      "text/plain": [
       "(staff, friendly, helpful)      701\n",
       "(hotel, great, location)        579\n",
       "(old, san, juan)                354\n",
       "(highly, recommend, hotel)      313\n",
       "(5, minute, walk)               306\n",
       "                               ... \n",
       "(doughnut, corner, saturday)      1\n",
       "(parking, damper, recent)         1\n",
       "(free, charge, menu)              1\n",
       "(actually, got, airport)          1\n",
       "(cream, afternoon, great)         1\n",
       "Length: 1822833, dtype: int64"
      ]
     },
     "execution_count": 9,
     "metadata": {},
     "output_type": "execute_result"
    }
   ],
   "source": [
    "triwords=(pd.Series(nltk.ngrams(words, 3)).value_counts())\n",
    "triwords"
   ]
  },
  {
   "cell_type": "code",
   "execution_count": 10,
   "metadata": {},
   "outputs": [
    {
     "data": {
      "text/plain": [
       "(great, hotel, great, location)      106\n",
       "(staff, friendly, helpful, room)      87\n",
       "(hotel, staff, friendly, helpful)     69\n",
       "(ca, nt, wait, return)                60\n",
       "(hotel, great, location, stayed)      58\n",
       "                                    ... \n",
       "(inroom, 19inch, tube, tv)             1\n",
       "(size400, sq, ft, small)               1\n",
       "(lobby, desk, affable, night)          1\n",
       "(walk, uffizzi, ideal, nipping)        1\n",
       "(stayed, beach, day, overall)          1\n",
       "Length: 2027730, dtype: int64"
      ]
     },
     "execution_count": 10,
     "metadata": {},
     "output_type": "execute_result"
    }
   ],
   "source": [
    "tetrawords=(pd.Series(nltk.ngrams(words, 4)).value_counts())\n",
    "tetrawords"
   ]
  },
  {
   "cell_type": "code",
   "execution_count": 11,
   "metadata": {},
   "outputs": [],
   "source": [
    "unigrams_series = (pd.Series(nltk.ngrams(words, 1)).value_counts())[:12]\n",
    "bigrams_series = (pd.Series(nltk.ngrams(words, 2)).value_counts())[:12]\n",
    "trigrams_series = (pd.Series(nltk.ngrams(words, 3)).value_counts())[:12]"
   ]
  },
  {
   "cell_type": "code",
   "execution_count": 12,
   "metadata": {},
   "outputs": [
    {
     "data": {
      "text/plain": [
       "Text(0.5, 0, '# of Occurances')"
      ]
     },
     "execution_count": 12,
     "metadata": {},
     "output_type": "execute_result"
    },
    {
     "data": {
      "image/png": "[encoded data removed]",
      "text/plain": [
       "<Figure size 864x576 with 1 Axes>"
      ]
     },
     "metadata": {
      "needs_background": "light"
     },
     "output_type": "display_data"
    }
   ],
   "source": [
    "unigrams_series.sort_values().plot.barh(color='blue', width=.9, figsize=(12, 8))\n",
    "plt.title('12 Most Frequently Occuring Unigrams')\n",
    "plt.ylabel('Unigram Occurrence ')\n",
    "plt.xlabel('# of Occurances')"
   ]
  },
  {
   "cell_type": "code",
   "execution_count": 13,
   "metadata": {},
   "outputs": [
    {
     "data": {
      "text/plain": [
       "Text(0.5, 0, '# of Occurances')"
      ]
     },
     "execution_count": 13,
     "metadata": {},
     "output_type": "execute_result"
    },
    {
     "data": {
      "image/png": "[encoded data removed]",
      "text/plain": [
       "<Figure size 864x576 with 1 Axes>"
      ]
     },
     "metadata": {
      "needs_background": "light"
     },
     "output_type": "display_data"
    }
   ],
   "source": [
    "bigrams_series.sort_values().plot.barh(color='blue', width=.9, figsize=(12, 8))\n",
    "plt.title('12 Most Frequently Occuring Bigrams')\n",
    "plt.ylabel('Bigram Occurance')\n",
    "plt.xlabel('# of Occurances')"
   ]
  },
  {
   "cell_type": "code",
   "execution_count": 14,
   "metadata": {},
   "outputs": [
    {
     "data": {
      "text/plain": [
       "Text(0.5, 0, '# of Occurances')"
      ]
     },
     "execution_count": 14,
     "metadata": {},
     "output_type": "execute_result"
    },
    {
     "data": {
      "image/png": "[encoded data removed]",
      "text/plain": [
       "<Figure size 864x576 with 1 Axes>"
      ]
     },
     "metadata": {
      "needs_background": "light"
     },
     "output_type": "display_data"
    }
   ],
   "source": [
    "trigrams_series.sort_values().plot.barh(color='blue', width=.9, figsize=(12, 8))\n",
    "plt.title('12 Most Frequently Occuring Trigrams')\n",
    "plt.ylabel('Trigram Occurance')\n",
    "plt.xlabel('# of Occurances')"
   ]
  },
  {
   "cell_type": "markdown",
   "metadata": {},
   "source": [
    "# PREDICTION OF WORDS \n",
    "-- SEQUENCE NUMBER 1\n"
   ]
  },
  {
   "cell_type": "code",
   "execution_count": 15,
   "metadata": {},
   "outputs": [
    {
     "name": "stdout",
     "output_type": "stream",
     "text": [
      "Enter Sequence of Words helpful fluent languages goes way make\n"
     ]
    }
   ],
   "source": [
    "sqofwords=input('Enter Sequence of Words ')\n",
    "prdctwords = basic_clean(''.join(sqofwords))"
   ]
  },
  {
   "cell_type": "code",
   "execution_count": 16,
   "metadata": {},
   "outputs": [
    {
     "name": "stdout",
     "output_type": "stream",
     "text": [
      "4713\n"
     ]
    }
   ],
   "source": [
    "prdctwords_dict = {}\n",
    "for (x,), value1 in uniwords.iteritems():\n",
    "    if x==prdctwords[-1]:\n",
    "        probistword=value1\n",
    "        break       \n",
    "print(probistword)\n",
    "\n",
    "for (a,b), value in biwords.iteritems():\n",
    "    if a==prdctwords[-1]:\n",
    "        variable=b\n",
    "        prdctwords_dict[variable] = value/probistword\n",
    "\n"
   ]
  },
  {
   "cell_type": "code",
   "execution_count": 17,
   "metadata": {},
   "outputs": [
    {
     "data": {
      "text/plain": [
       "Text(0.5, 0, '# of Occurances')"
      ]
     },
     "execution_count": 17,
     "metadata": {},
     "output_type": "execute_result"
    },
    {
     "data": {
      "image/png": "[encoded data removed]",
      "text/plain": [
       "<Figure size 864x432 with 1 Axes>"
      ]
     },
     "metadata": {
      "needs_background": "light"
     },
     "output_type": "display_data"
    }
   ],
   "source": [
    "prdctwords_series=pd.Series(prdctwords_dict)[:10]\n",
    "prdctwords_series.sort_values().plot.barh(color='blue', width=.9, figsize=(12, 6))\n",
    "plt.title('frequently Occuring possible words')\n",
    "plt.ylabel('prediction by unigram model')\n",
    "plt.xlabel('# of Occurances')"
   ]
  },
  {
   "cell_type": "code",
   "execution_count": 18,
   "metadata": {},
   "outputs": [
    {
     "name": "stdout",
     "output_type": "stream",
     "text": [
      "\n",
      "\n",
      "123\n"
     ]
    }
   ],
   "source": [
    "prdctwords2_dict = {}\n",
    "print('\\n')\n",
    "for (x,y), value1 in biwords.iteritems():\n",
    "    if x==prdctwords[-2] and y==prdctwords[-1]:\n",
    "        probistword=value1\n",
    "        break       \n",
    "print(probistword)\n",
    "\n",
    "for (a,b,c), value in triwords.iteritems():\n",
    "    if a==prdctwords[-2] and b==prdctwords[-1]:\n",
    "        variable=c\n",
    "        prdctwords2_dict[variable] = value/probistword"
   ]
  },
  {
   "cell_type": "code",
   "execution_count": 19,
   "metadata": {},
   "outputs": [
    {
     "data": {
      "text/plain": [
       "Text(0.5, 0, '# of Occurances')"
      ]
     },
     "execution_count": 19,
     "metadata": {},
     "output_type": "execute_result"
    },
    {
     "data": {
      "image/png": "[encoded data removed]",
      "text/plain": [
       "<Figure size 576x432 with 1 Axes>"
      ]
     },
     "metadata": {
      "needs_background": "light"
     },
     "output_type": "display_data"
    }
   ],
   "source": [
    "prdctwords2_series=pd.Series(prdctwords2_dict)[:10]\n",
    "prdctwords2_series.sort_values().plot.barh(color='blue', width=.9, figsize=(8, 6))\n",
    "plt.title('frequently Occuring possible words')\n",
    "plt.ylabel('prediction by bigram model')\n",
    "plt.xlabel('# of Occurances')\n"
   ]
  },
  {
   "cell_type": "code",
   "execution_count": 20,
   "metadata": {},
   "outputs": [
    {
     "name": "stdout",
     "output_type": "stream",
     "text": [
      "\n",
      "\n",
      "2\n"
     ]
    }
   ],
   "source": [
    "prdctwords3_dict = {}\n",
    "print('\\n')\n",
    "for (x,y,z,k), value1 in tetrawords.iteritems():\n",
    "    if x==prdctwords[-3] and y==prdctwords[-2] and z==prdctwords[-1]:\n",
    "        probistword=value1\n",
    "        break       \n",
    "print(probistword)\n",
    "for (a,b,c,d), value in tetrawords.iteritems():\n",
    "    if a==prdctwords[-3] and b==prdctwords[-2] and c==prdctwords[-1]:\n",
    "        variable=d\n",
    "        prdctwords3_dict[variable] = value/probistword"
   ]
  },
  {
   "cell_type": "code",
   "execution_count": 21,
   "metadata": {},
   "outputs": [
    {
     "data": {
      "text/plain": [
       "Text(0.5, 0, '# of Occurances')"
      ]
     },
     "execution_count": 21,
     "metadata": {},
     "output_type": "execute_result"
    },
    {
     "data": {
      "image/png": "[encoded data removed]",
      "text/plain": [
       "<Figure size 576x432 with 1 Axes>"
      ]
     },
     "metadata": {
      "needs_background": "light"
     },
     "output_type": "display_data"
    }
   ],
   "source": [
    "prdctwords3_series=pd.Series(prdctwords3_dict)[:10]\n",
    "prdctwords3_series.sort_values().plot.barh(color='blue', width=.9, figsize=(8, 6))\n",
    "plt.title('frequently Occuring possible words')\n",
    "plt.ylabel('prediction by trigram model')\n",
    "plt.xlabel('# of Occurances')"
   ]
  },
  {
   "cell_type": "markdown",
   "metadata": {},
   "source": [
    "# PREDICTION OF WORDS \n",
    "-- SEQUENCE NUMBER 2"
   ]
  },
  {
   "cell_type": "code",
   "execution_count": 22,
   "metadata": {},
   "outputs": [
    {
     "name": "stdout",
     "output_type": "stream",
     "text": [
      "Enter Sequence of Words reservation 4 persons confirmation\n"
     ]
    }
   ],
   "source": [
    "sqofwords=input('Enter Sequence of Words ')\n",
    "prdctwords = basic_clean(''.join(sqofwords))"
   ]
  },
  {
   "cell_type": "code",
   "execution_count": 23,
   "metadata": {},
   "outputs": [
    {
     "name": "stdout",
     "output_type": "stream",
     "text": [
      "168\n"
     ]
    }
   ],
   "source": [
    "prdctwords_dict = {}\n",
    "for (x,), value1 in uniwords.iteritems():\n",
    "    if x==prdctwords[-1]:\n",
    "        probistword=value1\n",
    "        break       \n",
    "print(probistword)\n",
    "\n",
    "for (a,b), value in biwords.iteritems():\n",
    "    if a==prdctwords[-1]:\n",
    "        variable=b\n",
    "        prdctwords_dict[variable] = value/probistword\n"
   ]
  },
  {
   "cell_type": "code",
   "execution_count": 24,
   "metadata": {},
   "outputs": [
    {
     "data": {
      "text/plain": [
       "Text(0.5, 0, '# of Occurances')"
      ]
     },
     "execution_count": 24,
     "metadata": {},
     "output_type": "execute_result"
    },
    {
     "data": {
      "image/png": "[encoded data removed]",
      "text/plain": [
       "<Figure size 864x432 with 1 Axes>"
      ]
     },
     "metadata": {
      "needs_background": "light"
     },
     "output_type": "display_data"
    }
   ],
   "source": [
    "prdctwords_series=pd.Series(prdctwords_dict)[:10]\n",
    "prdctwords_series.sort_values().plot.barh(color='blue', width=.9, figsize=(12, 6))\n",
    "plt.title('frequently Occuring possible words')\n",
    "plt.ylabel('prediction by unigram model')\n",
    "plt.xlabel('# of Occurances')"
   ]
  },
  {
   "cell_type": "code",
   "execution_count": 25,
   "metadata": {},
   "outputs": [
    {
     "name": "stdout",
     "output_type": "stream",
     "text": [
      "\n",
      "\n",
      "1\n"
     ]
    }
   ],
   "source": [
    "prdctwords2_dict = {}\n",
    "print('\\n')\n",
    "for (x,y), value1 in biwords.iteritems():\n",
    "    if x==prdctwords[-2] and y==prdctwords[-1]:\n",
    "        probistword=value1\n",
    "        break       \n",
    "print(probistword)\n",
    "\n",
    "for (a,b,c), value in triwords.iteritems():\n",
    "    if a==prdctwords[-2] and b==prdctwords[-1]:\n",
    "        variable=c\n",
    "        prdctwords2_dict[variable] = value/probistword"
   ]
  },
  {
   "cell_type": "code",
   "execution_count": 26,
   "metadata": {},
   "outputs": [
    {
     "data": {
      "text/plain": [
       "Text(0.5, 0, '# of Occurances')"
      ]
     },
     "execution_count": 26,
     "metadata": {},
     "output_type": "execute_result"
    },
    {
     "data": {
      "image/png": "[encoded data removed]",
      "text/plain": [
       "<Figure size 576x432 with 1 Axes>"
      ]
     },
     "metadata": {
      "needs_background": "light"
     },
     "output_type": "display_data"
    }
   ],
   "source": [
    "prdctwords2_series=pd.Series(prdctwords2_dict)[:10]\n",
    "prdctwords2_series.sort_values().plot.barh(color='blue', width=.9, figsize=(8, 6))\n",
    "plt.title('frequently Occuring possible words')\n",
    "plt.ylabel('prediction by bigram model')\n",
    "plt.xlabel('# of Occurances')"
   ]
  },
  {
   "cell_type": "code",
   "execution_count": 27,
   "metadata": {},
   "outputs": [
    {
     "name": "stdout",
     "output_type": "stream",
     "text": [
      "\n",
      "\n",
      "1\n"
     ]
    }
   ],
   "source": [
    "prdctwords3_dict = {}\n",
    "print('\\n')\n",
    "for (x,y,z,k), value1 in tetrawords.iteritems():\n",
    "    if x==prdctwords[-3] and y==prdctwords[-2] and z==prdctwords[-1]:\n",
    "        probistword=value1\n",
    "        break       \n",
    "print(probistword)\n",
    "for (a,b,c,d), value in tetrawords.iteritems():\n",
    "    if a==prdctwords[-3] and b==prdctwords[-2] and c==prdctwords[-1]:\n",
    "        variable=d\n",
    "        prdctwords3_dict[variable] = value/probistword\n",
    "        "
   ]
  },
  {
   "cell_type": "code",
   "execution_count": 28,
   "metadata": {},
   "outputs": [
    {
     "data": {
      "text/plain": [
       "Text(0.5, 0, '# of Occurances')"
      ]
     },
     "execution_count": 28,
     "metadata": {},
     "output_type": "execute_result"
    },
    {
     "data": {
      "image/png": "[encoded data removed]",
      "text/plain": [
       "<Figure size 576x432 with 1 Axes>"
      ]
     },
     "metadata": {
      "needs_background": "light"
     },
     "output_type": "display_data"
    }
   ],
   "source": [
    "prdctwords3_series=pd.Series(prdctwords3_dict)[:10]\n",
    "prdctwords3_series.sort_values().plot.barh(color='blue', width=.9, figsize=(8, 6))\n",
    "plt.title('frequently Occuring possible words')\n",
    "plt.ylabel('prediction by trigram model')\n",
    "plt.xlabel('# of Occurances')"
   ]
  },
  {
   "cell_type": "markdown",
   "metadata": {},
   "source": [
    "# PREDICTION OF WORDS \n",
    "-- SEQUENCE NUMBER 3"
   ]
  },
  {
   "cell_type": "code",
   "execution_count": 36,
   "metadata": {},
   "outputs": [
    {
     "name": "stdout",
     "output_type": "stream",
     "text": [
      "Enter Sequence of Words hotel lovely modern tasteful excellently equipt\n"
     ]
    }
   ],
   "source": [
    "sqofwords=input('Enter Sequence of Words ')\n",
    "prdctwords = basic_clean(''.join(sqofwords))"
   ]
  },
  {
   "cell_type": "code",
   "execution_count": 37,
   "metadata": {},
   "outputs": [
    {
     "name": "stdout",
     "output_type": "stream",
     "text": [
      "4\n"
     ]
    }
   ],
   "source": [
    "prdctwords_dict = {}\n",
    "for (x,), value1 in uniwords.iteritems():\n",
    "    if x==prdctwords[-1]:\n",
    "        probistword=value1\n",
    "        break       \n",
    "print(probistword)\n",
    "\n",
    "for (a,b), value in biwords.iteritems():\n",
    "    if a==prdctwords[-1]:\n",
    "        variable=b\n",
    "        prdctwords_dict[variable] = value/probistword\n"
   ]
  },
  {
   "cell_type": "code",
   "execution_count": 38,
   "metadata": {},
   "outputs": [
    {
     "data": {
      "text/plain": [
       "Text(0.5, 0, '# of Occurances')"
      ]
     },
     "execution_count": 38,
     "metadata": {},
     "output_type": "execute_result"
    },
    {
     "data": {
      "image/png": "[encoded data removed]",
      "text/plain": [
       "<Figure size 864x432 with 1 Axes>"
      ]
     },
     "metadata": {
      "needs_background": "light"
     },
     "output_type": "display_data"
    }
   ],
   "source": [
    "prdctwords_series=pd.Series(prdctwords_dict)[:10]\n",
    "prdctwords_series.sort_values().plot.barh(color='blue', width=.9, figsize=(12, 6))\n",
    "plt.title('frequently Occuring possible words')\n",
    "plt.ylabel('prediction by unigram model')\n",
    "plt.xlabel('# of Occurances')"
   ]
  },
  {
   "cell_type": "code",
   "execution_count": 39,
   "metadata": {},
   "outputs": [
    {
     "name": "stdout",
     "output_type": "stream",
     "text": [
      "\n",
      "\n",
      "1\n"
     ]
    }
   ],
   "source": [
    "prdctwords2_dict = {}\n",
    "print('\\n')\n",
    "for (x,y), value1 in biwords.iteritems():\n",
    "    if x==prdctwords[-2] and y==prdctwords[-1]:\n",
    "        probistword=value1\n",
    "        break       \n",
    "print(probistword)\n",
    "\n",
    "for (a,b,c), value in triwords.iteritems():\n",
    "    if a==prdctwords[-2] and b==prdctwords[-1]:\n",
    "        variable=c\n",
    "        prdctwords2_dict[variable] = value/probistword"
   ]
  },
  {
   "cell_type": "code",
   "execution_count": 33,
   "metadata": {},
   "outputs": [
    {
     "data": {
      "text/plain": [
       "Text(0.5, 0, '# of Occurances')"
      ]
     },
     "execution_count": 33,
     "metadata": {},
     "output_type": "execute_result"
    },
    {
     "data": {
      "image/png": "[encoded data removed]",
      "text/plain": [
       "<Figure size 576x432 with 1 Axes>"
      ]
     },
     "metadata": {
      "needs_background": "light"
     },
     "output_type": "display_data"
    }
   ],
   "source": [
    "prdctwords2_series=pd.Series(prdctwords2_dict)[:10]\n",
    "prdctwords2_series.sort_values().plot.barh(color='blue', width=.9, figsize=(8, 6))\n",
    "plt.title('frequently Occuring possible words')\n",
    "plt.ylabel('prediction by bigram model')\n",
    "plt.xlabel('# of Occurances')"
   ]
  },
  {
   "cell_type": "code",
   "execution_count": 40,
   "metadata": {},
   "outputs": [
    {
     "name": "stdout",
     "output_type": "stream",
     "text": [
      "\n",
      "\n",
      "1\n"
     ]
    }
   ],
   "source": [
    "prdctwords3_dict = {}\n",
    "print('\\n')\n",
    "for (x,y,z,k), value1 in tetrawords.iteritems():\n",
    "    if x==prdctwords[-3] and y==prdctwords[-2] and z==prdctwords[-1]:\n",
    "        probistword=value1\n",
    "        break       \n",
    "print(probistword)\n",
    "for (a,b,c,d), value in tetrawords.iteritems():\n",
    "    if a==prdctwords[-3] and b==prdctwords[-2] and c==prdctwords[-1]:\n",
    "        variable=d\n",
    "        prdctwords3_dict[variable] = value/probistword\n",
    "        "
   ]
  },
  {
   "cell_type": "code",
   "execution_count": 41,
   "metadata": {},
   "outputs": [
    {
     "data": {
      "text/plain": [
       "Text(0.5, 0, '# of Occurances')"
      ]
     },
     "execution_count": 41,
     "metadata": {},
     "output_type": "execute_result"
    },
    {
     "data": {
      "image/png": "[encoded data removed]",
      "text/plain": [
       "<Figure size 576x432 with 1 Axes>"
      ]
     },
     "metadata": {
      "needs_background": "light"
     },
     "output_type": "display_data"
    }
   ],
   "source": [
    "prdctwords3_series=pd.Series(prdctwords3_dict)[:10]\n",
    "prdctwords3_series.sort_values().plot.barh(color='blue', width=.9, figsize=(8, 6))\n",
    "plt.title('frequently Occuring possible words')\n",
    "plt.ylabel('prediction by trigram model')\n",
    "plt.xlabel('# of Occurances')"
   ]
  },
  {
   "cell_type": "markdown",
   "metadata": {},
   "source": [
    "# PREDICTION OF WORDS \n",
    "-- SEQUENCE NUMBER 4\n"
   ]
  },
  {
   "cell_type": "code",
   "execution_count": 42,
   "metadata": {},
   "outputs": [
    {
     "name": "stdout",
     "output_type": "stream",
     "text": [
      "Enter Sequence of Words rooms large stayed ocean view room completely\n"
     ]
    }
   ],
   "source": [
    "sqofwords=input('Enter Sequence of Words ')\n",
    "prdctwords = basic_clean(''.join(sqofwords))"
   ]
  },
  {
   "cell_type": "code",
   "execution_count": 43,
   "metadata": {},
   "outputs": [
    {
     "name": "stdout",
     "output_type": "stream",
     "text": [
      "545\n"
     ]
    }
   ],
   "source": [
    "prdctwords_dict = {}\n",
    "for (x,), value1 in uniwords.iteritems():\n",
    "    if x==prdctwords[-1]:\n",
    "        probistword=value1\n",
    "        break       \n",
    "print(probistword)\n",
    "\n",
    "for (a,b), value in biwords.iteritems():\n",
    "    if a==prdctwords[-1]:\n",
    "        variable=b\n",
    "        prdctwords_dict[variable] = value/probistword\n"
   ]
  },
  {
   "cell_type": "code",
   "execution_count": 44,
   "metadata": {},
   "outputs": [
    {
     "data": {
      "text/plain": [
       "Text(0.5, 0, '# of Occurances')"
      ]
     },
     "execution_count": 44,
     "metadata": {},
     "output_type": "execute_result"
    },
    {
     "data": {
      "image/png": "[encoded data removed]",
      "text/plain": [
       "<Figure size 864x432 with 1 Axes>"
      ]
     },
     "metadata": {
      "needs_background": "light"
     },
     "output_type": "display_data"
    }
   ],
   "source": [
    "prdctwords_series=pd.Series(prdctwords_dict)[:10]\n",
    "prdctwords_series.sort_values().plot.barh(color='blue', width=.9, figsize=(12, 6))\n",
    "plt.title('frequently Occuring possible words')\n",
    "plt.ylabel('prediction by unigram model')\n",
    "plt.xlabel('# of Occurances')"
   ]
  },
  {
   "cell_type": "code",
   "execution_count": 45,
   "metadata": {},
   "outputs": [
    {
     "name": "stdout",
     "output_type": "stream",
     "text": [
      "\n",
      "\n",
      "29\n"
     ]
    }
   ],
   "source": [
    "prdctwords2_dict = {}\n",
    "print('\\n')\n",
    "for (x,y), value1 in biwords.iteritems():\n",
    "    if x==prdctwords[-2] and y==prdctwords[-1]:\n",
    "        probistword=value1\n",
    "        break       \n",
    "print(probistword)\n",
    "\n",
    "for (a,b,c), value in triwords.iteritems():\n",
    "    if a==prdctwords[-2] and b==prdctwords[-1]:\n",
    "        variable=c\n",
    "        prdctwords2_dict[variable] = value/probistword"
   ]
  },
  {
   "cell_type": "code",
   "execution_count": 46,
   "metadata": {},
   "outputs": [
    {
     "data": {
      "text/plain": [
       "Text(0.5, 0, '# of Occurances')"
      ]
     },
     "execution_count": 46,
     "metadata": {},
     "output_type": "execute_result"
    },
    {
     "data": {
      "image/png": "[encoded data removed]",
      "text/plain": [
       "<Figure size 576x432 with 1 Axes>"
      ]
     },
     "metadata": {
      "needs_background": "light"
     },
     "output_type": "display_data"
    }
   ],
   "source": [
    "prdctwords2_series=pd.Series(prdctwords2_dict)[:10]\n",
    "prdctwords2_series.sort_values().plot.barh(color='blue', width=.9, figsize=(8, 6))\n",
    "plt.title('frequently Occuring possible words')\n",
    "plt.ylabel('prediction by bigram model')\n",
    "plt.xlabel('# of Occurances')"
   ]
  },
  {
   "cell_type": "code",
   "execution_count": 47,
   "metadata": {},
   "outputs": [
    {
     "name": "stdout",
     "output_type": "stream",
     "text": [
      "\n",
      "\n",
      "1\n"
     ]
    }
   ],
   "source": [
    "prdctwords3_dict = {}\n",
    "print('\\n')\n",
    "for (x,y,z,k), value1 in tetrawords.iteritems():\n",
    "    if x==prdctwords[-3] and y==prdctwords[-2] and z==prdctwords[-1]:\n",
    "        probistword=value1\n",
    "        break       \n",
    "print(probistword)\n",
    "for (a,b,c,d), value in tetrawords.iteritems():\n",
    "    if a==prdctwords[-3] and b==prdctwords[-2] and c==prdctwords[-1]:\n",
    "        variable=d\n",
    "        prdctwords3_dict[variable] = value/probistword\n",
    "        "
   ]
  },
  {
   "cell_type": "code",
   "execution_count": 48,
   "metadata": {},
   "outputs": [
    {
     "data": {
      "text/plain": [
       "Text(0.5, 0, '# of Occurances')"
      ]
     },
     "execution_count": 48,
     "metadata": {},
     "output_type": "execute_result"
    },
    {
     "data": {
      "image/png": "[encoded data removed]",
      "text/plain": [
       "<Figure size 576x432 with 1 Axes>"
      ]
     },
     "metadata": {
      "needs_background": "light"
     },
     "output_type": "display_data"
    }
   ],
   "source": [
    "prdctwords3_series=pd.Series(prdctwords3_dict)[:10]\n",
    "prdctwords3_series.sort_values().plot.barh(color='blue', width=.9, figsize=(8, 6))\n",
    "plt.title('frequently Occuring possible words')\n",
    "plt.ylabel('prediction by trigram model')\n",
    "plt.xlabel('# of Occurances')"
   ]
  },
  {
   "cell_type": "markdown",
   "metadata": {},
   "source": [
    "# PREDICTION OF WORDS \n",
    "-- SEQUENCE NUMBER 5"
   ]
  },
  {
   "cell_type": "code",
   "execution_count": 49,
   "metadata": {},
   "outputs": [
    {
     "name": "stdout",
     "output_type": "stream",
     "text": [
      "Enter Sequence of Words windows wide open obviously rid\n"
     ]
    }
   ],
   "source": [
    "sqofwords=input('Enter Sequence of Words ')\n",
    "prdctwords = basic_clean(''.join(sqofwords))"
   ]
  },
  {
   "cell_type": "code",
   "execution_count": 50,
   "metadata": {},
   "outputs": [
    {
     "name": "stdout",
     "output_type": "stream",
     "text": [
      "46\n"
     ]
    }
   ],
   "source": [
    "prdctwords_dict = {}\n",
    "for (x,), value1 in uniwords.iteritems():\n",
    "    if x==prdctwords[-1]:\n",
    "        probistword=value1\n",
    "        break       \n",
    "print(probistword)\n",
    "\n",
    "for (a,b), value in biwords.iteritems():\n",
    "    if a==prdctwords[-1]:\n",
    "        variable=b\n",
    "        prdctwords_dict[variable] = value/probistword\n"
   ]
  },
  {
   "cell_type": "code",
   "execution_count": 51,
   "metadata": {},
   "outputs": [
    {
     "data": {
      "text/plain": [
       "Text(0.5, 0, '# of Occurances')"
      ]
     },
     "execution_count": 51,
     "metadata": {},
     "output_type": "execute_result"
    },
    {
     "data": {
      "image/png": "[encoded data removed]",
      "text/plain": [
       "<Figure size 864x432 with 1 Axes>"
      ]
     },
     "metadata": {
      "needs_background": "light"
     },
     "output_type": "display_data"
    }
   ],
   "source": [
    "prdctwords_series=pd.Series(prdctwords_dict)[:10]\n",
    "prdctwords_series.sort_values().plot.barh(color='blue', width=.9, figsize=(12, 6))\n",
    "plt.title('frequently Occuring possible words')\n",
    "plt.ylabel('prediction by unigram model')\n",
    "plt.xlabel('# of Occurances')"
   ]
  },
  {
   "cell_type": "code",
   "execution_count": 52,
   "metadata": {},
   "outputs": [
    {
     "name": "stdout",
     "output_type": "stream",
     "text": [
      "\n",
      "\n",
      "1\n"
     ]
    }
   ],
   "source": [
    "prdctwords2_dict = {}\n",
    "print('\\n')\n",
    "for (x,y), value1 in biwords.iteritems():\n",
    "    if x==prdctwords[-2] and y==prdctwords[-1]:\n",
    "        probistword=value1\n",
    "        break       \n",
    "print(probistword)\n",
    "\n",
    "for (a,b,c), value in triwords.iteritems():\n",
    "    if a==prdctwords[-2] and b==prdctwords[-1]:\n",
    "        variable=c\n",
    "        prdctwords2_dict[variable] = value/probistword"
   ]
  },
  {
   "cell_type": "code",
   "execution_count": 53,
   "metadata": {},
   "outputs": [
    {
     "data": {
      "text/plain": [
       "Text(0.5, 0, '# of Occurances')"
      ]
     },
     "execution_count": 53,
     "metadata": {},
     "output_type": "execute_result"
    },
    {
     "data": {
      "image/png": "[encoded data removed]",
      "text/plain": [
       "<Figure size 576x432 with 1 Axes>"
      ]
     },
     "metadata": {
      "needs_background": "light"
     },
     "output_type": "display_data"
    }
   ],
   "source": [
    "prdctwords2_series=pd.Series(prdctwords2_dict)[:10]\n",
    "prdctwords2_series.sort_values().plot.barh(color='blue', width=.9, figsize=(8, 6))\n",
    "plt.title('frequently Occuring possible words')\n",
    "plt.ylabel('prediction by bigram model')\n",
    "plt.xlabel('# of Occurances')"
   ]
  },
  {
   "cell_type": "code",
   "execution_count": 54,
   "metadata": {},
   "outputs": [
    {
     "name": "stdout",
     "output_type": "stream",
     "text": [
      "\n",
      "\n",
      "1\n"
     ]
    }
   ],
   "source": [
    "prdctwords3_dict = {}\n",
    "print('\\n')\n",
    "for (x,y,z,k), value1 in tetrawords.iteritems():\n",
    "    if x==prdctwords[-3] and y==prdctwords[-2] and z==prdctwords[-1]:\n",
    "        probistword=value1\n",
    "        break       \n",
    "print(probistword)\n",
    "for (a,b,c,d), value in tetrawords.iteritems():\n",
    "    if a==prdctwords[-3] and b==prdctwords[-2] and c==prdctwords[-1]:\n",
    "        variable=d\n",
    "        prdctwords3_dict[variable] = value/probistword\n",
    "        "
   ]
  },
  {
   "cell_type": "code",
   "execution_count": 55,
   "metadata": {},
   "outputs": [
    {
     "data": {
      "text/plain": [
       "Text(0.5, 0, '# of Occurances')"
      ]
     },
     "execution_count": 55,
     "metadata": {},
     "output_type": "execute_result"
    },
    {
     "data": {
      "image/png": "[encoded data removed]",
      "text/plain": [
       "<Figure size 576x432 with 1 Axes>"
      ]
     },
     "metadata": {
      "needs_background": "light"
     },
     "output_type": "display_data"
    }
   ],
   "source": [
    "prdctwords3_series=pd.Series(prdctwords3_dict)[:10]\n",
    "prdctwords3_series.sort_values().plot.barh(color='blue', width=.9, figsize=(8, 6))\n",
    "plt.title('frequently Occuring possible words')\n",
    "plt.ylabel('prediction by trigram model')\n",
    "plt.xlabel('# of Occurances')"
   ]
  },
  {
   "cell_type": "markdown",
   "metadata": {},
   "source": [
    "# PREDICTION OF WORDS \n",
    "-- SEQUENCE NUMBER 6"
   ]
  },
  {
   "cell_type": "code",
   "execution_count": 56,
   "metadata": {},
   "outputs": [
    {
     "name": "stdout",
     "output_type": "stream",
     "text": [
      "Enter Sequence of Words great location price view hotel great quick place\n"
     ]
    }
   ],
   "source": [
    "sqofwords=input('Enter Sequence of Words ')\n",
    "prdctwords = basic_clean(''.join(sqofwords))"
   ]
  },
  {
   "cell_type": "code",
   "execution_count": 57,
   "metadata": {},
   "outputs": [
    {
     "name": "stdout",
     "output_type": "stream",
     "text": [
      "9377\n"
     ]
    }
   ],
   "source": [
    "prdctwords_dict = {}\n",
    "for (x,), value1 in uniwords.iteritems():\n",
    "    if x==prdctwords[-1]:\n",
    "        probistword=value1\n",
    "        break       \n",
    "print(probistword)\n",
    "\n",
    "for (a,b), value in biwords.iteritems():\n",
    "    if a==prdctwords[-1]:\n",
    "        variable=b\n",
    "        prdctwords_dict[variable] = value/probistword\n"
   ]
  },
  {
   "cell_type": "code",
   "execution_count": 58,
   "metadata": {},
   "outputs": [
    {
     "data": {
      "text/plain": [
       "Text(0.5, 0, '# of Occurances')"
      ]
     },
     "execution_count": 58,
     "metadata": {},
     "output_type": "execute_result"
    },
    {
     "data": {
      "image/png": "[encoded data removed]",
      "text/plain": [
       "<Figure size 864x432 with 1 Axes>"
      ]
     },
     "metadata": {
      "needs_background": "light"
     },
     "output_type": "display_data"
    }
   ],
   "source": [
    "prdctwords_series=pd.Series(prdctwords_dict)[:10]\n",
    "prdctwords_series.sort_values().plot.barh(color='blue', width=.9, figsize=(12, 6))\n",
    "plt.title('frequently Occuring possible words')\n",
    "plt.ylabel('prediction by unigram model')\n",
    "plt.xlabel('# of Occurances')"
   ]
  },
  {
   "cell_type": "code",
   "execution_count": 59,
   "metadata": {},
   "outputs": [
    {
     "name": "stdout",
     "output_type": "stream",
     "text": [
      "\n",
      "\n",
      "3\n"
     ]
    }
   ],
   "source": [
    "prdctwords2_dict = {}\n",
    "print('\\n')\n",
    "for (x,y), value1 in biwords.iteritems():\n",
    "    if x==prdctwords[-2] and y==prdctwords[-1]:\n",
    "        probistword=value1\n",
    "        break       \n",
    "print(probistword)\n",
    "\n",
    "for (a,b,c), value in triwords.iteritems():\n",
    "    if a==prdctwords[-2] and b==prdctwords[-1]:\n",
    "        variable=c\n",
    "        prdctwords2_dict[variable] = value/probistword"
   ]
  },
  {
   "cell_type": "code",
   "execution_count": 60,
   "metadata": {},
   "outputs": [
    {
     "data": {
      "text/plain": [
       "Text(0.5, 0, '# of Occurances')"
      ]
     },
     "execution_count": 60,
     "metadata": {},
     "output_type": "execute_result"
    },
    {
     "data": {
      "image/png": "[encoded data removed]",
      "text/plain": [
       "<Figure size 576x432 with 1 Axes>"
      ]
     },
     "metadata": {
      "needs_background": "light"
     },
     "output_type": "display_data"
    }
   ],
   "source": [
    "prdctwords2_series=pd.Series(prdctwords2_dict)[:10]\n",
    "prdctwords2_series.sort_values().plot.barh(color='blue', width=.9, figsize=(8, 6))\n",
    "plt.title('frequently Occuring possible words')\n",
    "plt.ylabel('prediction by bigram model')\n",
    "plt.xlabel('# of Occurances')"
   ]
  },
  {
   "cell_type": "code",
   "execution_count": 61,
   "metadata": {},
   "outputs": [
    {
     "name": "stdout",
     "output_type": "stream",
     "text": [
      "\n",
      "\n",
      "1\n"
     ]
    }
   ],
   "source": [
    "prdctwords3_dict = {}\n",
    "print('\\n')\n",
    "for (x,y,z,k), value1 in tetrawords.iteritems():\n",
    "    if x==prdctwords[-3] and y==prdctwords[-2] and z==prdctwords[-1]:\n",
    "        probistword=value1\n",
    "        break       \n",
    "print(probistword)\n",
    "for (a,b,c,d), value in tetrawords.iteritems():\n",
    "    if a==prdctwords[-3] and b==prdctwords[-2] and c==prdctwords[-1]:\n",
    "        variable=d\n",
    "        prdctwords3_dict[variable] = value/probistword\n",
    "        "
   ]
  },
  {
   "cell_type": "code",
   "execution_count": 62,
   "metadata": {},
   "outputs": [
    {
     "data": {
      "text/plain": [
       "Text(0.5, 0, '# of Occurances')"
      ]
     },
     "execution_count": 62,
     "metadata": {},
     "output_type": "execute_result"
    },
    {
     "data": {
      "image/png": "[encoded data removed]",
      "text/plain": [
       "<Figure size 576x432 with 1 Axes>"
      ]
     },
     "metadata": {
      "needs_background": "light"
     },
     "output_type": "display_data"
    }
   ],
   "source": [
    "prdctwords3_series=pd.Series(prdctwords3_dict)[:10]\n",
    "prdctwords3_series.sort_values().plot.barh(color='blue', width=.9, figsize=(8, 6))\n",
    "plt.title('frequently Occuring possible words')\n",
    "plt.ylabel('prediction by trigram model')\n",
    "plt.xlabel('# of Occurances')"
   ]
  },
  {
   "cell_type": "markdown",
   "metadata": {},
   "source": [
    "# PREDICTION OF WORDS \n",
    "-- SEQUENCE NUMBER 7"
   ]
  },
  {
   "cell_type": "code",
   "execution_count": 63,
   "metadata": {},
   "outputs": [
    {
     "name": "stdout",
     "output_type": "stream",
     "text": [
      "Enter Sequence of Words the hotel forgot wake resulted missed\n"
     ]
    }
   ],
   "source": [
    "sqofwords=input('Enter Sequence of Words ')\n",
    "prdctwords = basic_clean(''.join(sqofwords))"
   ]
  },
  {
   "cell_type": "code",
   "execution_count": 64,
   "metadata": {},
   "outputs": [
    {
     "name": "stdout",
     "output_type": "stream",
     "text": [
      "300\n"
     ]
    }
   ],
   "source": [
    "prdctwords_dict = {}\n",
    "for (x,), value1 in uniwords.iteritems():\n",
    "    if x==prdctwords[-1]:\n",
    "        probistword=value1\n",
    "        break       \n",
    "print(probistword)\n",
    "\n",
    "for (a,b), value in biwords.iteritems():\n",
    "    if a==prdctwords[-1]:\n",
    "        variable=b\n",
    "        prdctwords_dict[variable] = value/probistword\n"
   ]
  },
  {
   "cell_type": "code",
   "execution_count": 65,
   "metadata": {},
   "outputs": [
    {
     "data": {
      "text/plain": [
       "Text(0.5, 0, '# of Occurances')"
      ]
     },
     "execution_count": 65,
     "metadata": {},
     "output_type": "execute_result"
    },
    {
     "data": {
      "image/png": "[encoded data removed]",
      "text/plain": [
       "<Figure size 864x432 with 1 Axes>"
      ]
     },
     "metadata": {
      "needs_background": "light"
     },
     "output_type": "display_data"
    }
   ],
   "source": [
    "prdctwords_series=pd.Series(prdctwords_dict)[:10]\n",
    "prdctwords_series.sort_values().plot.barh(color='blue', width=.9, figsize=(12, 6))\n",
    "plt.title('frequently Occuring possible words')\n",
    "plt.ylabel('prediction by unigram model')\n",
    "plt.xlabel('# of Occurances')"
   ]
  },
  {
   "cell_type": "code",
   "execution_count": 66,
   "metadata": {},
   "outputs": [
    {
     "name": "stdout",
     "output_type": "stream",
     "text": [
      "\n",
      "\n",
      "1\n"
     ]
    }
   ],
   "source": [
    "prdctwords2_dict = {}\n",
    "print('\\n')\n",
    "for (x,y), value1 in biwords.iteritems():\n",
    "    if x==prdctwords[-2] and y==prdctwords[-1]:\n",
    "        probistword=value1\n",
    "        break       \n",
    "print(probistword)\n",
    "\n",
    "for (a,b,c), value in triwords.iteritems():\n",
    "    if a==prdctwords[-2] and b==prdctwords[-1]:\n",
    "        variable=c\n",
    "        prdctwords2_dict[variable] = value/probistword"
   ]
  },
  {
   "cell_type": "code",
   "execution_count": 67,
   "metadata": {},
   "outputs": [
    {
     "data": {
      "text/plain": [
       "Text(0.5, 0, '# of Occurances')"
      ]
     },
     "execution_count": 67,
     "metadata": {},
     "output_type": "execute_result"
    },
    {
     "data": {
      "image/png": "[encoded data removed]",
      "text/plain": [
       "<Figure size 576x432 with 1 Axes>"
      ]
     },
     "metadata": {
      "needs_background": "light"
     },
     "output_type": "display_data"
    }
   ],
   "source": [
    "prdctwords2_series=pd.Series(prdctwords2_dict)[:10]\n",
    "prdctwords2_series.sort_values().plot.barh(color='blue', width=.9, figsize=(8, 6))\n",
    "plt.title('frequently Occuring possible words')\n",
    "plt.ylabel('prediction by bigram model')\n",
    "plt.xlabel('# of Occurances')"
   ]
  },
  {
   "cell_type": "code",
   "execution_count": 68,
   "metadata": {},
   "outputs": [
    {
     "name": "stdout",
     "output_type": "stream",
     "text": [
      "\n",
      "\n",
      "1\n"
     ]
    }
   ],
   "source": [
    "prdctwords3_dict = {}\n",
    "print('\\n')\n",
    "for (x,y,z,k), value1 in tetrawords.iteritems():\n",
    "    if x==prdctwords[-3] and y==prdctwords[-2] and z==prdctwords[-1]:\n",
    "        probistword=value1\n",
    "        break       \n",
    "print(probistword)\n",
    "for (a,b,c,d), value in tetrawords.iteritems():\n",
    "    if a==prdctwords[-3] and b==prdctwords[-2] and c==prdctwords[-1]:\n",
    "        variable=d\n",
    "        prdctwords3_dict[variable] = value/probistword\n",
    "        "
   ]
  },
  {
   "cell_type": "code",
   "execution_count": 69,
   "metadata": {},
   "outputs": [
    {
     "data": {
      "text/plain": [
       "Text(0.5, 0, '# of Occurances')"
      ]
     },
     "execution_count": 69,
     "metadata": {},
     "output_type": "execute_result"
    },
    {
     "data": {
      "image/png": "[encoded data removed]",
      "text/plain": [
       "<Figure size 576x432 with 1 Axes>"
      ]
     },
     "metadata": {
      "needs_background": "light"
     },
     "output_type": "display_data"
    }
   ],
   "source": [
    "prdctwords3_series=pd.Series(prdctwords3_dict)[:10]\n",
    "prdctwords3_series.sort_values().plot.barh(color='blue', width=.9, figsize=(8, 6))\n",
    "plt.title('frequently Occuring possible words')\n",
    "plt.ylabel('prediction by trigram model')\n",
    "plt.xlabel('# of Occurances')"
   ]
  },
  {
   "cell_type": "markdown",
   "metadata": {},
   "source": [
    "# PREDICTION OF WORDS \n",
    "-- SEQUENCE NUMBER 8"
   ]
  },
  {
   "cell_type": "code",
   "execution_count": 70,
   "metadata": {},
   "outputs": [
    {
     "name": "stdout",
     "output_type": "stream",
     "text": [
      "Enter Sequence of Words room includes flat screen tv dvd player\n"
     ]
    }
   ],
   "source": [
    "sqofwords=input('Enter Sequence of Words ')\n",
    "prdctwords = basic_clean(''.join(sqofwords))"
   ]
  },
  {
   "cell_type": "code",
   "execution_count": 71,
   "metadata": {},
   "outputs": [
    {
     "name": "stdout",
     "output_type": "stream",
     "text": [
      "241\n"
     ]
    }
   ],
   "source": [
    "prdctwords_dict = {}\n",
    "for (x,), value1 in uniwords.iteritems():\n",
    "    if x==prdctwords[-1]:\n",
    "        probistword=value1\n",
    "        break       \n",
    "print(probistword)\n",
    "\n",
    "for (a,b), value in biwords.iteritems():\n",
    "    if a==prdctwords[-1]:\n",
    "        variable=b\n",
    "        prdctwords_dict[variable] = value/probistword\n"
   ]
  },
  {
   "cell_type": "code",
   "execution_count": 72,
   "metadata": {},
   "outputs": [
    {
     "data": {
      "text/plain": [
       "Text(0.5, 0, '# of Occurances')"
      ]
     },
     "execution_count": 72,
     "metadata": {},
     "output_type": "execute_result"
    },
    {
     "data": {
      "image/png": "[encoded data removed]",
      "text/plain": [
       "<Figure size 864x432 with 1 Axes>"
      ]
     },
     "metadata": {
      "needs_background": "light"
     },
     "output_type": "display_data"
    }
   ],
   "source": [
    "prdctwords_series=pd.Series(prdctwords_dict)[:10]\n",
    "prdctwords_series.sort_values().plot.barh(color='blue', width=.9, figsize=(12, 6))\n",
    "plt.title('frequently Occuring possible words')\n",
    "plt.ylabel('prediction by unigram model')\n",
    "plt.xlabel('# of Occurances')"
   ]
  },
  {
   "cell_type": "code",
   "execution_count": 73,
   "metadata": {},
   "outputs": [
    {
     "name": "stdout",
     "output_type": "stream",
     "text": [
      "\n",
      "\n",
      "97\n"
     ]
    }
   ],
   "source": [
    "prdctwords2_dict = {}\n",
    "print('\\n')\n",
    "for (x,y), value1 in biwords.iteritems():\n",
    "    if x==prdctwords[-2] and y==prdctwords[-1]:\n",
    "        probistword=value1\n",
    "        break       \n",
    "print(probistword)\n",
    "\n",
    "for (a,b,c), value in triwords.iteritems():\n",
    "    if a==prdctwords[-2] and b==prdctwords[-1]:\n",
    "        variable=c\n",
    "        prdctwords2_dict[variable] = value/probistword"
   ]
  },
  {
   "cell_type": "code",
   "execution_count": 74,
   "metadata": {},
   "outputs": [
    {
     "data": {
      "text/plain": [
       "Text(0.5, 0, '# of Occurances')"
      ]
     },
     "execution_count": 74,
     "metadata": {},
     "output_type": "execute_result"
    },
    {
     "data": {
      "image/png": "[encoded data removed]",
      "text/plain": [
       "<Figure size 576x432 with 1 Axes>"
      ]
     },
     "metadata": {
      "needs_background": "light"
     },
     "output_type": "display_data"
    }
   ],
   "source": [
    "prdctwords2_series=pd.Series(prdctwords2_dict)[:10]\n",
    "prdctwords2_series.sort_values().plot.barh(color='blue', width=.9, figsize=(8, 6))\n",
    "plt.title('frequently Occuring possible words')\n",
    "plt.ylabel('prediction by bigram model')\n",
    "plt.xlabel('# of Occurances')"
   ]
  },
  {
   "cell_type": "code",
   "execution_count": 75,
   "metadata": {},
   "outputs": [
    {
     "name": "stdout",
     "output_type": "stream",
     "text": [
      "\n",
      "\n",
      "3\n"
     ]
    }
   ],
   "source": [
    "prdctwords3_dict = {}\n",
    "print('\\n')\n",
    "for (x,y,z,k), value1 in tetrawords.iteritems():\n",
    "    if x==prdctwords[-3] and y==prdctwords[-2] and z==prdctwords[-1]:\n",
    "        probistword=value1\n",
    "        break       \n",
    "print(probistword)\n",
    "for (a,b,c,d), value in tetrawords.iteritems():\n",
    "    if a==prdctwords[-3] and b==prdctwords[-2] and c==prdctwords[-1]:\n",
    "        variable=d\n",
    "        prdctwords3_dict[variable] = value/probistword\n",
    "        "
   ]
  },
  {
   "cell_type": "code",
   "execution_count": 76,
   "metadata": {},
   "outputs": [
    {
     "data": {
      "text/plain": [
       "Text(0.5, 0, '# of Occurances')"
      ]
     },
     "execution_count": 76,
     "metadata": {},
     "output_type": "execute_result"
    },
    {
     "data": {
      "image/png": "[encoded data removed]",
      "text/plain": [
       "<Figure size 576x432 with 1 Axes>"
      ]
     },
     "metadata": {
      "needs_background": "light"
     },
     "output_type": "display_data"
    }
   ],
   "source": [
    "prdctwords3_series=pd.Series(prdctwords3_dict)[:10]\n",
    "prdctwords3_series.sort_values().plot.barh(color='blue', width=.9, figsize=(8, 6))\n",
    "plt.title('frequently Occuring possible words')\n",
    "plt.ylabel('prediction by trigram model')\n",
    "plt.xlabel('# of Occurances')"
   ]
  },
  {
   "cell_type": "markdown",
   "metadata": {},
   "source": [
    "# PREDICTION OF WORDS \n",
    "-- SEQUENCE NUMBER 9\n"
   ]
  },
  {
   "cell_type": "code",
   "execution_count": 77,
   "metadata": {},
   "outputs": [
    {
     "name": "stdout",
     "output_type": "stream",
     "text": [
      "Enter Sequence of Words located corners building room huge\n"
     ]
    }
   ],
   "source": [
    "sqofwords=input('Enter Sequence of Words ')\n",
    "prdctwords = basic_clean(''.join(sqofwords))"
   ]
  },
  {
   "cell_type": "code",
   "execution_count": 78,
   "metadata": {},
   "outputs": [
    {
     "name": "stdout",
     "output_type": "stream",
     "text": [
      "1969\n"
     ]
    }
   ],
   "source": [
    "prdctwords_dict = {}\n",
    "for (x,), value1 in uniwords.iteritems():\n",
    "    if x==prdctwords[-1]:\n",
    "        probistword=value1\n",
    "        break       \n",
    "print(probistword)\n",
    "\n",
    "for (a,b), value in biwords.iteritems():\n",
    "    if a==prdctwords[-1]:\n",
    "        variable=b\n",
    "        prdctwords_dict[variable] = value/probistword\n"
   ]
  },
  {
   "cell_type": "code",
   "execution_count": 79,
   "metadata": {},
   "outputs": [
    {
     "data": {
      "text/plain": [
       "Text(0.5, 0, '# of Occurances')"
      ]
     },
     "execution_count": 79,
     "metadata": {},
     "output_type": "execute_result"
    },
    {
     "data": {
      "image/png": "[encoded data removed]",
      "text/plain": [
       "<Figure size 864x432 with 1 Axes>"
      ]
     },
     "metadata": {
      "needs_background": "light"
     },
     "output_type": "display_data"
    }
   ],
   "source": [
    "prdctwords_series=pd.Series(prdctwords_dict)[:10]\n",
    "prdctwords_series.sort_values().plot.barh(color='blue', width=.9, figsize=(12, 6))\n",
    "plt.title('frequently Occuring possible words')\n",
    "plt.ylabel('prediction by unigram model')\n",
    "plt.xlabel('# of Occurances')"
   ]
  },
  {
   "cell_type": "code",
   "execution_count": 80,
   "metadata": {},
   "outputs": [
    {
     "name": "stdout",
     "output_type": "stream",
     "text": [
      "\n",
      "\n",
      "207\n"
     ]
    }
   ],
   "source": [
    "prdctwords2_dict = {}\n",
    "print('\\n')\n",
    "for (x,y), value1 in biwords.iteritems():\n",
    "    if x==prdctwords[-2] and y==prdctwords[-1]:\n",
    "        probistword=value1\n",
    "        break       \n",
    "print(probistword)\n",
    "\n",
    "for (a,b,c), value in triwords.iteritems():\n",
    "    if a==prdctwords[-2] and b==prdctwords[-1]:\n",
    "        variable=c\n",
    "        prdctwords2_dict[variable] = value/probistword"
   ]
  },
  {
   "cell_type": "code",
   "execution_count": 81,
   "metadata": {},
   "outputs": [
    {
     "data": {
      "text/plain": [
       "Text(0.5, 0, '# of Occurances')"
      ]
     },
     "execution_count": 81,
     "metadata": {},
     "output_type": "execute_result"
    },
    {
     "data": {
      "image/png": "[encoded data removed]",
      "text/plain": [
       "<Figure size 576x432 with 1 Axes>"
      ]
     },
     "metadata": {
      "needs_background": "light"
     },
     "output_type": "display_data"
    }
   ],
   "source": [
    "prdctwords2_series=pd.Series(prdctwords2_dict)[:10]\n",
    "prdctwords2_series.sort_values().plot.barh(color='blue', width=.9, figsize=(8, 6))\n",
    "plt.title('frequently Occuring possible words')\n",
    "plt.ylabel('prediction by bigram model')\n",
    "plt.xlabel('# of Occurances')"
   ]
  },
  {
   "cell_type": "code",
   "execution_count": 82,
   "metadata": {},
   "outputs": [
    {
     "name": "stdout",
     "output_type": "stream",
     "text": [
      "\n",
      "\n",
      "1\n"
     ]
    }
   ],
   "source": [
    "prdctwords3_dict = {}\n",
    "print('\\n')\n",
    "for (x,y,z,k), value1 in tetrawords.iteritems():\n",
    "    if x==prdctwords[-3] and y==prdctwords[-2] and z==prdctwords[-1]:\n",
    "        probistword=value1\n",
    "        break       \n",
    "print(probistword)\n",
    "for (a,b,c,d), value in tetrawords.iteritems():\n",
    "    if a==prdctwords[-3] and b==prdctwords[-2] and c==prdctwords[-1]:\n",
    "        variable=d\n",
    "        prdctwords3_dict[variable] = value/probistword\n",
    "        "
   ]
  },
  {
   "cell_type": "code",
   "execution_count": 83,
   "metadata": {},
   "outputs": [
    {
     "data": {
      "text/plain": [
       "Text(0.5, 0, '# of Occurances')"
      ]
     },
     "execution_count": 83,
     "metadata": {},
     "output_type": "execute_result"
    },
    {
     "data": {
      "image/png": "[encoded data removed]",
      "text/plain": [
       "<Figure size 576x432 with 1 Axes>"
      ]
     },
     "metadata": {
      "needs_background": "light"
     },
     "output_type": "display_data"
    }
   ],
   "source": [
    "prdctwords3_series=pd.Series(prdctwords3_dict)[:10]\n",
    "prdctwords3_series.sort_values().plot.barh(color='blue', width=.9, figsize=(8, 6))\n",
    "plt.title('frequently Occuring possible words')\n",
    "plt.ylabel('prediction by trigram model')\n",
    "plt.xlabel('# of Occurances')"
   ]
  },
  {
   "cell_type": "markdown",
   "metadata": {},
   "source": [
    "# PREDICTION OF WORDS \n",
    "-- SEQUENCE NUMBER 10\n"
   ]
  },
  {
   "cell_type": "code",
   "execution_count": 84,
   "metadata": {},
   "outputs": [
    {
     "name": "stdout",
     "output_type": "stream",
     "text": [
      "Enter Sequence of Words ok little run average cleanliness chose\n"
     ]
    }
   ],
   "source": [
    "sqofwords=input('Enter Sequence of Words ')\n",
    "prdctwords = basic_clean(''.join(sqofwords))"
   ]
  },
  {
   "cell_type": "code",
   "execution_count": 85,
   "metadata": {},
   "outputs": [
    {
     "name": "stdout",
     "output_type": "stream",
     "text": [
      "795\n"
     ]
    }
   ],
   "source": [
    "prdctwords_dict = {}\n",
    "for (x,), value1 in uniwords.iteritems():\n",
    "    if x==prdctwords[-1]:\n",
    "        probistword=value1\n",
    "        break       \n",
    "print(probistword)\n",
    "\n",
    "for (a,b), value in biwords.iteritems():\n",
    "    if a==prdctwords[-1]:\n",
    "        variable=b\n",
    "        prdctwords_dict[variable] = value/probistword\n"
   ]
  },
  {
   "cell_type": "code",
   "execution_count": 86,
   "metadata": {},
   "outputs": [
    {
     "data": {
      "text/plain": [
       "Text(0.5, 0, '# of Occurances')"
      ]
     },
     "execution_count": 86,
     "metadata": {},
     "output_type": "execute_result"
    },
    {
     "data": {
      "image/png": "[encoded data removed]",
      "text/plain": [
       "<Figure size 864x432 with 1 Axes>"
      ]
     },
     "metadata": {
      "needs_background": "light"
     },
     "output_type": "display_data"
    }
   ],
   "source": [
    "prdctwords_series=pd.Series(prdctwords_dict)[:10]\n",
    "prdctwords_series.sort_values().plot.barh(color='blue', width=.9, figsize=(12, 6))\n",
    "plt.title('frequently Occuring possible words')\n",
    "plt.ylabel('prediction by unigram model')\n",
    "plt.xlabel('# of Occurances')"
   ]
  },
  {
   "cell_type": "code",
   "execution_count": 87,
   "metadata": {},
   "outputs": [
    {
     "name": "stdout",
     "output_type": "stream",
     "text": [
      "\n",
      "\n",
      "1\n"
     ]
    }
   ],
   "source": [
    "prdctwords2_dict = {}\n",
    "print('\\n')\n",
    "for (x,y), value1 in biwords.iteritems():\n",
    "    if x==prdctwords[-2] and y==prdctwords[-1]:\n",
    "        probistword=value1\n",
    "        break       \n",
    "print(probistword)\n",
    "\n",
    "for (a,b,c), value in triwords.iteritems():\n",
    "    if a==prdctwords[-2] and b==prdctwords[-1]:\n",
    "        variable=c\n",
    "        prdctwords2_dict[variable] = value/probistword"
   ]
  },
  {
   "cell_type": "code",
   "execution_count": 88,
   "metadata": {},
   "outputs": [
    {
     "data": {
      "text/plain": [
       "Text(0.5, 0, '# of Occurances')"
      ]
     },
     "execution_count": 88,
     "metadata": {},
     "output_type": "execute_result"
    },
    {
     "data": {
      "image/png": "[encoded data removed]",
      "text/plain": [
       "<Figure size 576x432 with 1 Axes>"
      ]
     },
     "metadata": {
      "needs_background": "light"
     },
     "output_type": "display_data"
    }
   ],
   "source": [
    "prdctwords2_series=pd.Series(prdctwords2_dict)[:10]\n",
    "prdctwords2_series.sort_values().plot.barh(color='blue', width=.9, figsize=(8, 6))\n",
    "plt.title('frequently Occuring possible words')\n",
    "plt.ylabel('prediction by bigram model')\n",
    "plt.xlabel('# of Occurances')"
   ]
  },
  {
   "cell_type": "code",
   "execution_count": 89,
   "metadata": {},
   "outputs": [
    {
     "name": "stdout",
     "output_type": "stream",
     "text": [
      "\n",
      "\n",
      "1\n"
     ]
    }
   ],
   "source": [
    "prdctwords3_dict = {}\n",
    "print('\\n')\n",
    "for (x,y,z,k), value1 in tetrawords.iteritems():\n",
    "    if x==prdctwords[-3] and y==prdctwords[-2] and z==prdctwords[-1]:\n",
    "        probistword=value1\n",
    "        break       \n",
    "print(probistword)\n",
    "for (a,b,c,d), value in tetrawords.iteritems():\n",
    "    if a==prdctwords[-3] and b==prdctwords[-2] and c==prdctwords[-1]:\n",
    "        variable=d\n",
    "        prdctwords3_dict[variable] = value/probistword\n",
    "        "
   ]
  },
  {
   "cell_type": "code",
   "execution_count": 90,
   "metadata": {},
   "outputs": [
    {
     "data": {
      "text/plain": [
       "Text(0.5, 0, '# of Occurances')"
      ]
     },
     "execution_count": 90,
     "metadata": {},
     "output_type": "execute_result"
    },
    {
     "data": {
      "image/png": "[encoded data removed]",
      "text/plain": [
       "<Figure size 576x432 with 1 Axes>"
      ]
     },
     "metadata": {
      "needs_background": "light"
     },
     "output_type": "display_data"
    }
   ],
   "source": [
    "prdctwords3_series=pd.Series(prdctwords3_dict)[:10]\n",
    "prdctwords3_series.sort_values().plot.barh(color='blue', width=.9, figsize=(8, 6))\n",
    "plt.title('frequently Occuring possible words')\n",
    "plt.ylabel('prediction by trigram model')\n",
    "plt.xlabel('# of Occurances')"
   ]
  },
  {
   "cell_type": "code",
   "execution_count": null,
   "metadata": {},
   "outputs": [],
   "source": []
  }
 ],
 "metadata": {
  "kernelspec": {
   "display_name": "Python 3",
   "language": "python",
   "name": "python3"
  },
  "language_info": {
   "codemirror_mode": {
    "name": "ipython",
    "version": 3
   },
   "file_extension": ".py",
   "mimetype": "text/x-python",
   "name": "python",
   "nbconvert_exporter": "python",
   "pygments_lexer": "ipython3",
   "version": "3.7.4"
  }
 },
 "nbformat": 4,
 "nbformat_minor": 2
}
